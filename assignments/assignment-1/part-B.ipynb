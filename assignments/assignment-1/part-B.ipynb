{
 "cells": [
  {
   "cell_type": "markdown",
   "id": "6ea7c10b",
   "metadata": {},
   "source": [
    "# Homework 1 - Part B\n",
    "You are interviewing with Google’s ad team and one of their tasks is predicting the Click Through Rate (CTR) of ads they place on web or mobile properties. Code up a model that predicts the CTR based on Logistic Regression.\n",
    "\n",
    "---\n",
    "\n",
    "### Part 1 - Data Cleanup\n",
    "\n",
    "To start, these are all the libraries I will be using to construct and run a logistic regression model, and display results:"
   ]
  },
  {
   "cell_type": "code",
   "execution_count": 3,
   "id": "b88d7991",
   "metadata": {},
   "outputs": [],
   "source": [
    "# For fast processing of tensors\n",
    "import torch\n",
    "import torch.linalg\n",
    "\n",
    "# Other numerical processing\n",
    "import numpy as np\n",
    "\n",
    "# Plotting library\n",
    "import matplotlib.pyplot as plt\n",
    "\n",
    "# Data importing\n",
    "import pandas as pd"
   ]
  },
  {
   "cell_type": "markdown",
   "id": "39844a8b",
   "metadata": {},
   "source": [
    "This Python notebook assumes that the `test.gz` and `train.gz` files from the click through rate prediction data set can be found in the `./data` folder.\n",
    "\n",
    "I start by using the `pandas` library to load data from the `csv` files (compressed with the gzip format) into `pandas` Dataframes which I can perform some basic data cleaning on. Below I list out the columns of the data just to get a rough overview. I was hoping the anonymized columns would be named in the dataset but they are still C14 - C21 so I will definitely have to investigate them.\n",
    "\n",
    "I'm starting with the test set and only part of the train set as currently the full train set is too large for me to load without crashing my environment."
   ]
  },
  {
   "cell_type": "code",
   "execution_count": 4,
   "id": "40c0e136",
   "metadata": {},
   "outputs": [
    {
     "name": "stdout",
     "output_type": "stream",
     "text": [
      "<class 'pandas.core.frame.DataFrame'>\n",
      "RangeIndex: 100000 entries, 0 to 99999\n",
      "Data columns (total 24 columns):\n",
      " #   Column            Non-Null Count   Dtype  \n",
      "---  ------            --------------   -----  \n",
      " 0   id                100000 non-null  float64\n",
      " 1   click             100000 non-null  int64  \n",
      " 2   hour              100000 non-null  int64  \n",
      " 3   C1                100000 non-null  int64  \n",
      " 4   banner_pos        100000 non-null  int64  \n",
      " 5   site_id           100000 non-null  object \n",
      " 6   site_domain       100000 non-null  object \n",
      " 7   site_category     100000 non-null  object \n",
      " 8   app_id            100000 non-null  object \n",
      " 9   app_domain        100000 non-null  object \n",
      " 10  app_category      100000 non-null  object \n",
      " 11  device_id         100000 non-null  object \n",
      " 12  device_ip         100000 non-null  object \n",
      " 13  device_model      100000 non-null  object \n",
      " 14  device_type       100000 non-null  int64  \n",
      " 15  device_conn_type  100000 non-null  int64  \n",
      " 16  C14               100000 non-null  int64  \n",
      " 17  C15               100000 non-null  int64  \n",
      " 18  C16               100000 non-null  int64  \n",
      " 19  C17               100000 non-null  int64  \n",
      " 20  C18               100000 non-null  int64  \n",
      " 21  C19               100000 non-null  int64  \n",
      " 22  C20               100000 non-null  int64  \n",
      " 23  C21               100000 non-null  int64  \n",
      "dtypes: float64(1), int64(14), object(9)\n",
      "memory usage: 18.3+ MB\n"
     ]
    }
   ],
   "source": [
    "# Load the train and test sets\n",
    "test_data = pd.read_csv(\"./data/test.csv\")\n",
    "partial_train_data = pd.read_csv('./data/train.gz', compression=\"gzip\", nrows=1e5)\n",
    "\n",
    "# List the columns\n",
    "partial_train_data.info()"
   ]
  },
  {
   "cell_type": "markdown",
   "id": "c92f74ca",
   "metadata": {},
   "source": [
    "I'm going to investigate the non-numeric columns and see if any of them are worth encoding to a numeric format to be able to use in my logistic regressor."
   ]
  },
  {
   "cell_type": "code",
   "execution_count": 5,
   "id": "0ccd37c0",
   "metadata": {},
   "outputs": [
    {
     "data": {
      "text/plain": [
       "site_id            893\n",
       "site_domain        780\n",
       "site_category       16\n",
       "app_id             704\n",
       "app_domain          55\n",
       "app_category        19\n",
       "device_id         7202\n",
       "device_ip        40376\n",
       "device_model      2473\n",
       "dtype: int64"
      ]
     },
     "execution_count": 5,
     "metadata": {},
     "output_type": "execute_result"
    }
   ],
   "source": [
    "partial_train_data.select_dtypes(include=[\"object\"]).nunique()"
   ]
  },
  {
   "cell_type": "markdown",
   "id": "0d6b6001",
   "metadata": {},
   "source": [
    "From this `site_category` and `app_category` look the most reasonable to encode, but I'm not entirely sure of this as I'm not working with a more full data set, so let's take a look at these features."
   ]
  },
  {
   "cell_type": "code",
   "execution_count": 6,
   "id": "0c6b77cd",
   "metadata": {},
   "outputs": [
    {
     "data": {
      "text/plain": [
       "app_category\n",
       "07d7df22    78828\n",
       "0f2161f8    14971\n",
       "f95efa07     2895\n",
       "8ded1f7a     1347\n",
       "cef3e649     1309\n",
       "75d80bbe      171\n",
       "4ce2e9fc      130\n",
       "d1327cf5      129\n",
       "09481d60       50\n",
       "fc6fa53d       41\n",
       "dc97ec06       40\n",
       "a3c42688       32\n",
       "0f9a328c       18\n",
       "879c24eb       16\n",
       "a86a3e89        8\n",
       "7113d72a        7\n",
       "a7fd01ec        4\n",
       "4681bb9d        2\n",
       "8df2e842        2\n",
       "Name: count, dtype: int64"
      ]
     },
     "execution_count": 6,
     "metadata": {},
     "output_type": "execute_result"
    }
   ],
   "source": [
    "partial_train_data.app_category.value_counts()"
   ]
  },
  {
   "cell_type": "code",
   "execution_count": 7,
   "id": "eccd8834",
   "metadata": {},
   "outputs": [
    {
     "data": {
      "text/plain": [
       "site_category\n",
       "28905ebd    37696\n",
       "50e219e0    25399\n",
       "f028772b    19760\n",
       "3e814130    12480\n",
       "76b2941d     1843\n",
       "335d28a8     1329\n",
       "0569f928      675\n",
       "72722551      314\n",
       "f66779e6      279\n",
       "75fa27f6      146\n",
       "c0dd3be3       55\n",
       "bcf865d9       13\n",
       "a818d37a        7\n",
       "42a36e14        2\n",
       "110ab22d        1\n",
       "e787de0e        1\n",
       "Name: count, dtype: int64"
      ]
     },
     "execution_count": 7,
     "metadata": {},
     "output_type": "execute_result"
    }
   ],
   "source": [
    "partial_train_data.site_category.value_counts()"
   ]
  },
  {
   "cell_type": "markdown",
   "id": "3e688649",
   "metadata": {},
   "source": [
    "The problem I run into with this feature is I have no indication or key telling me how many site or app categories there are, so I'm left with a bunch of strings of, presumably hexadecimal values (maybe bit strings of flags, in which case there seem to be a lot of possible categories?) that I'm not sure I'll be able to map reliable if my test set doesn't have the same complete set of categories. I'll leave it out for now and try to throw it back in if my model struggles without it.\n",
    "\n",
    "In the meanwhile I will plot all the numeric categories to find any possible patterns I can work with."
   ]
  },
  {
   "cell_type": "code",
   "execution_count": 8,
   "id": "98db2624",
   "metadata": {},
   "outputs": [
    {
     "data": {
      "image/png": "[encoded data removed]",
      "text/plain": [
       "<Figure size 1200x1200 with 12 Axes>"
      ]
     },
     "metadata": {},
     "output_type": "display_data"
    }
   ],
   "source": [
    "fig, axes = plt.subplots(4, 3, figsize=(12, 12))\n",
    "\n",
    "# Used to generate a single labeled plot\n",
    "def gen_plot(axis, category, data):\n",
    "    axis.scatter(data[category], data.click)\n",
    "    axis.set_title(category)\n",
    "\n",
    "# The layout of plots\n",
    "cols_organized = [[\"C1\", \"C14\", \"C15\"], \n",
    "                  [\"C16\", \"C17\", \"C18\"], \n",
    "                  [\"C19\", \"C20\", \"C21\"], \n",
    "                  [\"banner_pos\", \"device_type\", \"device_conn_type\"]]\n",
    "\n",
    "# Iterate and plot all my plots\n",
    "for row in range(4):\n",
    "    for col in range(3):\n",
    "        gen_plot(axes[row][col], cols_organized[row][col], partial_train_data)"
   ]
  },
  {
   "cell_type": "markdown",
   "id": "5d13b630",
   "metadata": {},
   "source": [
    "No particular patterns emerge just from plotting, although the `1` class appears to be fairly clustered in `C15` so I may use this in initial testing of my logistic regressor.\n",
    "\n",
    "I will also create these plots to investigate the timestamp data. I'm specifically more interested in the month, day, and hour data as things like the holiday season may impact the click through rate of ads."
   ]
  },
  {
   "cell_type": "code",
   "execution_count": 9,
   "id": "1af0326a",
   "metadata": {},
   "outputs": [
    {
     "data": {
      "text/plain": [
       "Text(0.5, 1.0, 'Month')"
      ]
     },
     "execution_count": 9,
     "metadata": {},
     "output_type": "execute_result"
    },
    {
     "data": {
      "image/png": "[encoded data removed]",
      "text/plain": [
       "<Figure size 1200x400 with 3 Axes>"
      ]
     },
     "metadata": {},
     "output_type": "display_data"
    }
   ],
   "source": [
    "fig, axes = plt.subplots(1, 3, figsize=(12, 4))\n",
    "\n",
    "# Since timestamps are formatted as YYMMDDHH I will extract each component using modulus\n",
    "hour = partial_train_data.hour % 100\n",
    "day = (partial_train_data.hour - hour) // 100 % 100\n",
    "month = (partial_train_data.hour - day - hour) // 10000 % 100\n",
    "\n",
    "# And plot\n",
    "axes[0].scatter(hour, partial_train_data.click)\n",
    "axes[0].set_title(\"Hour\")\n",
    "axes[1].scatter(day, partial_train_data.click)\n",
    "axes[1].set_title(\"Day\")\n",
    "axes[2].scatter(month, partial_train_data.click)\n",
    "axes[2].set_title(\"Month\")"
   ]
  },
  {
   "cell_type": "markdown",
   "id": "97c4bdd8",
   "metadata": {},
   "source": [
    "Analyzing these data points is rather difficult as I do not have the full train set loaded so I do not have all 10 days in the train set to discern any patterns here. Since data is ordered chronologically and I only extracted a relatively small portion of the full data set, I can definitely see why I only have one x value here on each plot.\n",
    "\n",
    "That being said, only the hour feature is particularly interesting to me between hour, month, and day since the train set is data from over 10 days so I won't get much variation from the month and day features anyway. As for the hour feature, I'm curious to see what proportion of data has a `click` class of `1` or `0`. This should give me a rough idea if there's any correlation between the `click` class and the hour though I recognize I may not be working with every data point with an hour of `0` so I don't know how reflective this will be."
   ]
  },
  {
   "cell_type": "code",
   "execution_count": 10,
   "id": "94e8443a",
   "metadata": {},
   "outputs": [
    {
     "data": {
      "text/plain": [
       "click\n",
       "0    82510\n",
       "1    17490\n",
       "Name: count, dtype: int64"
      ]
     },
     "execution_count": 10,
     "metadata": {},
     "output_type": "execute_result"
    }
   ],
   "source": [
    "# Since the hour is 0 for the entire portion of the dataset I'm looking at this should give me some rough idea\n",
    "partial_train_data.click.value_counts()"
   ]
  },
  {
   "cell_type": "markdown",
   "id": "f9c9764e",
   "metadata": {},
   "source": [
    "This is at least indicative that in my final model it may be worth extracting the hour data. Now I will write my preprocessing function to extract the numerical categorical variables, and extract only the hour from the timestamp feature.\n",
    "\n",
    "This function will also clean NaNs and NULLs."
   ]
  },
  {
   "cell_type": "code",
   "execution_count": 11,
   "id": "38576602",
   "metadata": {},
   "outputs": [],
   "source": [
    "def preprocess(df):\n",
    "    # Extract columns I want\n",
    "    df = df[['id', 'click', 'hour', 'C1', 'banner_pos', 'C14', 'C15', 'C16', 'C17', 'C18', 'C19', 'C20', 'C21']]\n",
    "\n",
    "    # Remove None and NaN\n",
    "    df = df.dropna()\n",
    "\n",
    "    # Extract hour data\n",
    "    df.hour = df.hour % 100\n",
    "    \n",
    "    return df"
   ]
  },
  {
   "cell_type": "markdown",
   "id": "14087788",
   "metadata": {},
   "source": [
    "Here's roughly what the cleaned dataset looks like:"
   ]
  },
  {
   "cell_type": "code",
   "execution_count": 12,
   "id": "bc59970e",
   "metadata": {},
   "outputs": [
    {
     "data": {
      "text/html": [
       "<div>\n",
       "<style scoped>\n",
       "    .dataframe tbody tr th:only-of-type {\n",
       "        vertical-align: middle;\n",
       "    }\n",
       "\n",
       "    .dataframe tbody tr th {\n",
       "        vertical-align: top;\n",
       "    }\n",
       "\n",
       "    .dataframe thead th {\n",
       "        text-align: right;\n",
       "    }\n",
       "</style>\n",
       "<table border=\"1\" class=\"dataframe\">\n",
       "  <thead>\n",
       "    <tr style=\"text-align: right;\">\n",
       "      <th></th>\n",
       "      <th>id</th>\n",
       "      <th>click</th>\n",
       "      <th>hour</th>\n",
       "      <th>C1</th>\n",
       "      <th>banner_pos</th>\n",
       "      <th>C14</th>\n",
       "      <th>C15</th>\n",
       "      <th>C16</th>\n",
       "      <th>C17</th>\n",
       "      <th>C18</th>\n",
       "      <th>C19</th>\n",
       "      <th>C20</th>\n",
       "      <th>C21</th>\n",
       "    </tr>\n",
       "  </thead>\n",
       "  <tbody>\n",
       "    <tr>\n",
       "      <th>0</th>\n",
       "      <td>1.000009e+18</td>\n",
       "      <td>0</td>\n",
       "      <td>0</td>\n",
       "      <td>1005</td>\n",
       "      <td>0</td>\n",
       "      <td>15706</td>\n",
       "      <td>320</td>\n",
       "      <td>50</td>\n",
       "      <td>1722</td>\n",
       "      <td>0</td>\n",
       "      <td>35</td>\n",
       "      <td>-1</td>\n",
       "      <td>79</td>\n",
       "    </tr>\n",
       "    <tr>\n",
       "      <th>1</th>\n",
       "      <td>1.000017e+19</td>\n",
       "      <td>0</td>\n",
       "      <td>0</td>\n",
       "      <td>1005</td>\n",
       "      <td>0</td>\n",
       "      <td>15704</td>\n",
       "      <td>320</td>\n",
       "      <td>50</td>\n",
       "      <td>1722</td>\n",
       "      <td>0</td>\n",
       "      <td>35</td>\n",
       "      <td>100084</td>\n",
       "      <td>79</td>\n",
       "    </tr>\n",
       "    <tr>\n",
       "      <th>2</th>\n",
       "      <td>1.000037e+19</td>\n",
       "      <td>0</td>\n",
       "      <td>0</td>\n",
       "      <td>1005</td>\n",
       "      <td>0</td>\n",
       "      <td>15704</td>\n",
       "      <td>320</td>\n",
       "      <td>50</td>\n",
       "      <td>1722</td>\n",
       "      <td>0</td>\n",
       "      <td>35</td>\n",
       "      <td>100084</td>\n",
       "      <td>79</td>\n",
       "    </tr>\n",
       "    <tr>\n",
       "      <th>3</th>\n",
       "      <td>1.000064e+19</td>\n",
       "      <td>0</td>\n",
       "      <td>0</td>\n",
       "      <td>1005</td>\n",
       "      <td>0</td>\n",
       "      <td>15706</td>\n",
       "      <td>320</td>\n",
       "      <td>50</td>\n",
       "      <td>1722</td>\n",
       "      <td>0</td>\n",
       "      <td>35</td>\n",
       "      <td>100084</td>\n",
       "      <td>79</td>\n",
       "    </tr>\n",
       "    <tr>\n",
       "      <th>4</th>\n",
       "      <td>1.000068e+19</td>\n",
       "      <td>0</td>\n",
       "      <td>0</td>\n",
       "      <td>1005</td>\n",
       "      <td>1</td>\n",
       "      <td>18993</td>\n",
       "      <td>320</td>\n",
       "      <td>50</td>\n",
       "      <td>2161</td>\n",
       "      <td>0</td>\n",
       "      <td>35</td>\n",
       "      <td>-1</td>\n",
       "      <td>157</td>\n",
       "    </tr>\n",
       "  </tbody>\n",
       "</table>\n",
       "</div>"
      ],
      "text/plain": [
       "             id  click  hour    C1  banner_pos    C14  C15  C16   C17  C18  \\\n",
       "0  1.000009e+18      0     0  1005           0  15706  320   50  1722    0   \n",
       "1  1.000017e+19      0     0  1005           0  15704  320   50  1722    0   \n",
       "2  1.000037e+19      0     0  1005           0  15704  320   50  1722    0   \n",
       "3  1.000064e+19      0     0  1005           0  15706  320   50  1722    0   \n",
       "4  1.000068e+19      0     0  1005           1  18993  320   50  2161    0   \n",
       "\n",
       "   C19     C20  C21  \n",
       "0   35      -1   79  \n",
       "1   35  100084   79  \n",
       "2   35  100084   79  \n",
       "3   35  100084   79  \n",
       "4   35      -1  157  "
      ]
     },
     "execution_count": 12,
     "metadata": {},
     "output_type": "execute_result"
    }
   ],
   "source": [
    "partial_train_data = preprocess(partial_train_data)\n",
    "partial_train_data.head(5)"
   ]
  },
  {
   "cell_type": "markdown",
   "id": "5d200483",
   "metadata": {},
   "source": [
    "I did some testing and unfortunately I still can't load the entire dataset, so when I perform **Stochastic Gradient Descent** I'll have to decide on a batch size that my environment can handle, and then work with certain chunks at a time. For now let's figure out the number of rows in the training data."
   ]
  },
  {
   "cell_type": "code",
   "execution_count": 13,
   "id": "56b6a50c",
   "metadata": {},
   "outputs": [
    {
     "data": {
      "text/plain": [
       "40428967"
      ]
     },
     "execution_count": 13,
     "metadata": {},
     "output_type": "execute_result"
    }
   ],
   "source": [
    "# Load the train data\n",
    "CHUNK_SIZE = 10 ** 6\n",
    "row_count = 0\n",
    "\n",
    "with pd.read_csv(\"./data/train.gz\", compression=\"gzip\", chunksize=CHUNK_SIZE) as reader:\n",
    "    for chunk in reader:\n",
    "        row_count += len(chunk)\n",
    "\n",
    "# Preprocess the test data\n",
    "row_count"
   ]
  },
  {
   "cell_type": "markdown",
   "id": "d099117f",
   "metadata": {},
   "source": [
    "To create and test the logistic regressor, I will for now use the first $1000000$ rows of the train set (10x more than what I've been working with so far), and I will probably only use the `C15` column and the `hour` column. (I plan on using at least two columns since once my model is complete I should be able to generalize to more features as long as it works for at least two columns)."
   ]
  },
  {
   "cell_type": "markdown",
   "id": "cbce49a0",
   "metadata": {},
   "source": [
    "### Part 2 - Logistic Regression and SGD Model\n",
    "\n",
    "The **Sigmoid** function is defined as follows:\n",
    "$$\n",
    "\\sigma(\\alpha)=\\frac{1}{1+\\text{exp}(-\\alpha)}\n",
    "$$\n",
    "To make a prediction with this function, we compute the following:\n",
    "$$\n",
    "\\sigma(\\textbf{w}^{T} \\textbf{x})\n",
    "$$\n",
    "Where $\\textbf{w}$ represents the weights of the activation we tune using SGD, and $\\textbf{x}$ represents a feature vector. The sigmoid function itself is implemented by the PyTorch library in `torch.sigmoid`\n",
    "\n",
    "Before we define the prediction function I should clarify that I am including the **Bias** term in $\\textbf{w}$ so when I convert a row of selected features from the train set into an input vector $\\textbf{x}$, for the bias term to work correctly I would have to include an $x_{0}=1$ component in the input vector.\n",
    "\n",
    "We can define the \"predict\" function as follows:"
   ]
  },
  {
   "cell_type": "code",
   "execution_count": null,
   "id": "cfad16c0",
   "metadata": {},
   "outputs": [],
   "source": [
    "'''\n",
    "Make a prediction using the sigmoid activation given \n",
    "    w   - The weight vector w\n",
    "    b   - The bias\n",
    "    x   - The feature vector\n",
    "'''\n",
    "def predict(w, x):\n",
    "    theta = torch.dot(w, x)\n",
    "    return torch.sigmoid(theta)"
   ]
  },
  {
   "cell_type": "markdown",
   "id": "13633062",
   "metadata": {},
   "source": [
    "Next we need to define not just the loss function, but specifically the gradient of the loss function. For a binary classifier defined by a single sigmoid activation, the gradient of the binary cross entropy loss function is:\n",
    "$$\n",
    "\\nabla_{w}L=\\sum_{i=1}^{m}(y_{i}-y_{i})\\textbf{x}_{i}\n",
    "$$\n",
    "If we're using stochastic gradient descent we will perform a summation over a mini batch as opposed to the entire $m$, thus:\n",
    "$$\n",
    "\\nabla_{w}L=\\sum_{i=1}^{m_{b}}(y_{i}-y_{i})\\textbf{x}_{i}\n",
    "$$\n",
    "where we define $m_{b}$ to be some mini batch derived from the entire train set.\n",
    "\n",
    "Since for testing purposes we won't yet be working with the entire data set (which will require some extra code to generate minibatches from) I will create a generic function that will compute this gradient over some given \"batch\" `m`."
   ]
  },
  {
   "cell_type": "markdown",
   "id": "d91a055c",
   "metadata": {},
   "source": [
    "To best utilize PyTorch's fast matrix operations and computational capabilities, here's how I will compute the gradient. I will define $M_{b}$ to be a tensor such that every row of the tensor correspond to a row in the train set with an extra column of $1$ for the bias term. For example suppose my minibatch only has 2 rows and I'm only using two features:\n",
    "$$\n",
    "M_{b}=\\begin{bmatrix}\n",
    "x_{12} & x_{11} & x_{10}\\\\\n",
    "x_{22} & x_{21} & x_{20}\n",
    "\\end{bmatrix}\n",
    "$$\n",
    "In this example, $x_{ij}$ is defined where $i$ is the row number and $j$ is the component of the vector/feature number ($j=0$ refers to the component that will become the bias term so $x_{i0}$ will always be $1$).\n",
    "\n",
    "I will use this matrix and the weight vector $\\mathbf{w}$ to compute a vector of $\\hat{y}$ where every component of this vector corresponds to my prediction from the corresponding row in $M_{b}$. To do this, I will compute $M_{b}\\mathbf{w}$ and apply the $\\sigma$ function element wise to the result, giving me a $\\hat{\\mathbf{y}}$ vector.\n",
    "\n",
    "This I can subtract from a vector of $y$ created from the data set by converting the `click` column into a vector. This subtraction will be done elementwise. The resultant vector, I'll call $\\mathbf{d}$ can then be multiplied by $M_{b}$ element wise to compute each vector in the summation that results in the final gradient. \n",
    "\n",
    "To perform the summation, I can use `torch.sum` with `dim=1` which should result in my final gradient.\n",
    "\n",
    "To write this function in Python, my Python function will take a dataframe with the `click` feature and any other features that will be used to generate $M_{b}$ (I will pop off the `click` feature and the `id` feature). This way my function can be generalized to any number of numeric features."
   ]
  },
  {
   "cell_type": "code",
   "execution_count": 101,
   "id": "cc4118c9",
   "metadata": {},
   "outputs": [],
   "source": [
    "'''\n",
    "m_b - The dataframe with only the features we want to work with and the click feature\n",
    "w - The current weights with the bias\n",
    "'''\n",
    "def logistic_gradient(m_b, w):\n",
    "    # Create y_vec\n",
    "    y_vec = torch.tensor(m_b.click.values)\n",
    "    \n",
    "    # Create the M_b tensor/matrix\n",
    "    M_b = torch.tensor(m_b.drop('click', axis=1).values)\n",
    "    bias_col = torch.ones(M_b.shape[0], 1)\n",
    "    M_b = torch.cat((M_b, bias_col), dim=1)\n",
    "\n",
    "    # Compute the y_hat vector\n",
    "    y_hat_vec = torch.matmul(M_b, w)\n",
    "    y_hat_vec = torch.sigmoid(y_hat_vec)\n",
    "\n",
    "    # Compute the difference\n",
    "    d = y_hat_vec.squeeze() - y_vec\n",
    "\n",
    "    # Multiply by M_b\n",
    "    grad = d.view(M_b.shape[0], 1) * M_b\n",
    "\n",
    "    # Compute the summation\n",
    "    grad = grad.sum(dim=0)\n",
    "\n",
    "    return grad"
   ]
  },
  {
   "cell_type": "code",
   "execution_count": 102,
   "id": "5fe78c2f",
   "metadata": {},
   "outputs": [
    {
     "name": "stdout",
     "output_type": "stream",
     "text": [
      "tensor([26289856.,        0.,    82510.])\n"
     ]
    }
   ],
   "source": [
    "a = logistic_gradient(partial_train_data[['click', 'C15', 'hour']], torch.ones(3, 1))\n",
    "print(a)"
   ]
  }
 ],
 "metadata": {
  "kernelspec": {
   "display_name": ".venv",
   "language": "python",
   "name": "python3"
  },
  "language_info": {
   "codemirror_mode": {
    "name": "ipython",
    "version": 3
   },
   "file_extension": ".py",
   "mimetype": "text/x-python",
   "name": "python",
   "nbconvert_exporter": "python",
   "pygments_lexer": "ipython3",
   "version": "3.11.13"
  }
 },
 "nbformat": 4,
 "nbformat_minor": 5
}

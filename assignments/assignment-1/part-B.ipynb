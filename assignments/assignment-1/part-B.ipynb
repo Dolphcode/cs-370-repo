{
 "cells": [
  {
   "cell_type": "markdown",
   "id": "a25d23c9",
   "metadata": {},
   "source": [
    "# Homework 1 - Part B\n",
    "You are interviewing with Google’s ad team and one of their tasks is predicting the Click Through Rate (CTR) of ads they place on web or mobile properties. Code up a model that predicts the CTR based on Logistic Regression.\n",
    "\n",
    "---\n",
    "\n",
    "### Part 1 - Setup and Data Cleanup/Exploration\n",
    "\n",
    "To start, these are all the libraries I will be using to complete this assignment"
   ]
  },
  {
   "cell_type": "code",
   "execution_count": 2,
   "id": "86c5dd22",
   "metadata": {},
   "outputs": [],
   "source": [
    "# For fast processing of tensors\n",
    "import torch\n",
    "import torch.linalg\n",
    "\n",
    "# Other numerical processing\n",
    "import numpy as np\n",
    "\n",
    "# Plotting library\n",
    "import matplotlib.pyplot as plt\n",
    "\n",
    "# Data importing\n",
    "import pandas as pd\n",
    "\n",
    "# I initially used sklearn's breast cancer dataset to ensure that my model was performing in the first place\n",
    "from sklearn.datasets import load_breast_cancer\n",
    "from sklearn.model_selection import train_test_split"
   ]
  },
  {
   "cell_type": "markdown",
   "id": "9c28500e",
   "metadata": {},
   "source": [
    "This Python notebook assumes that the `test.gz` and `train.gz` files from the click through rate prediction data set can be found in the `./data` folder.\n",
    "\n",
    "In order to complete this assignment I create a `train_sample.gz` file which is a portion of the full training set so that I do not run out of memory trying to train my model. The bulk of this assignment is completed using `train_sample.gz`."
   ]
  },
  {
   "cell_type": "code",
   "execution_count": 3,
   "id": "0a5dac81",
   "metadata": {},
   "outputs": [],
   "source": [
    "# Load a portion of the train data into a dataframe\n",
    "CHUNK_SIZE = 10 ** 6\n",
    "SAMPLE_SIZE_PER_CHUNK = 10 ** 4\n",
    "partial_data_sample = pd.DataFrame()\n",
    "\n",
    "with pd.read_csv(\"./data/train.gz\", compression=\"gzip\", chunksize=CHUNK_SIZE) as reader:\n",
    "    for chunk in reader:\n",
    "        data = chunk.sample(SAMPLE_SIZE_PER_CHUNK)\n",
    "        partial_data_sample = pd.concat([partial_data_sample, data])\n",
    "\n",
    "# Preprocess the test data\n",
    "partial_data_sample.to_csv(\"./data/train_sample.gz\", compression=\"gzip\")"
   ]
  },
  {
   "cell_type": "markdown",
   "id": "06e7f22d",
   "metadata": {},
   "source": [
    "I start by using the `pandas` library to load data from the `csv` files (compressed with the gzip format) into `pandas` Dataframes which I can perform some basic data cleaning and exploratory data analysis on. THe C14-C21 classes are still anonymized so I will have to plot these out in order to decide if they are useful or not.\n",
    "\n",
    "I'm starting with the test set and only part of the train set as currently the full train set is too large for me to load without crashing my environment.\n",
    "\n",
    "First I will load both the train and test data and list the columns of the train set. The test data I will use later to generate the Kaggle contest submission."
   ]
  },
  {
   "cell_type": "code",
   "execution_count": 5,
   "id": "471847eb",
   "metadata": {},
   "outputs": [
    {
     "name": "stdout",
     "output_type": "stream",
     "text": [
      "<class 'pandas.core.frame.DataFrame'>\n",
      "RangeIndex: 410000 entries, 0 to 409999\n",
      "Data columns (total 25 columns):\n",
      " #   Column            Non-Null Count   Dtype  \n",
      "---  ------            --------------   -----  \n",
      " 0   Unnamed: 0        410000 non-null  int64  \n",
      " 1   id                410000 non-null  float64\n",
      " 2   click             410000 non-null  int64  \n",
      " 3   hour              410000 non-null  int64  \n",
      " 4   C1                410000 non-null  int64  \n",
      " 5   banner_pos        410000 non-null  int64  \n",
      " 6   site_id           410000 non-null  object \n",
      " 7   site_domain       410000 non-null  object \n",
      " 8   site_category     410000 non-null  object \n",
      " 9   app_id            410000 non-null  object \n",
      " 10  app_domain        410000 non-null  object \n",
      " 11  app_category      410000 non-null  object \n",
      " 12  device_id         410000 non-null  object \n",
      " 13  device_ip         410000 non-null  object \n",
      " 14  device_model      410000 non-null  object \n",
      " 15  device_type       410000 non-null  int64  \n",
      " 16  device_conn_type  410000 non-null  int64  \n",
      " 17  C14               410000 non-null  int64  \n",
      " 18  C15               410000 non-null  int64  \n",
      " 19  C16               410000 non-null  int64  \n",
      " 20  C17               410000 non-null  int64  \n",
      " 21  C18               410000 non-null  int64  \n",
      " 22  C19               410000 non-null  int64  \n",
      " 23  C20               410000 non-null  int64  \n",
      " 24  C21               410000 non-null  int64  \n",
      "dtypes: float64(1), int64(15), object(9)\n",
      "memory usage: 78.2+ MB\n"
     ]
    }
   ],
   "source": [
    "# Load the train and test sets\n",
    "test_data = pd.read_csv(\"./data/test.gz\", compression=\"gzip\")\n",
    "train_data = pd.read_csv('./data/train_sample.gz', compression=\"gzip\")\n",
    "\n",
    "# List the columns\n",
    "train_data.info()"
   ]
  },
  {
   "cell_type": "markdown",
   "id": "6834a33c",
   "metadata": {},
   "source": [
    "I'm going to investigate the non-numeric columns and see if any of them are worth encoding to a numeric format to be able to use in my logistic regressor."
   ]
  },
  {
   "cell_type": "code",
   "execution_count": 6,
   "id": "e6dbdfb3",
   "metadata": {},
   "outputs": [
    {
     "data": {
      "text/plain": [
       "site_id            2151\n",
       "site_domain        2141\n",
       "site_category        20\n",
       "app_id             2251\n",
       "app_domain          155\n",
       "app_category         26\n",
       "device_id         66045\n",
       "device_ip        265868\n",
       "device_model       4413\n",
       "dtype: int64"
      ]
     },
     "execution_count": 6,
     "metadata": {},
     "output_type": "execute_result"
    }
   ],
   "source": [
    "train_data.select_dtypes(include=[\"object\"]).nunique()"
   ]
  },
  {
   "cell_type": "markdown",
   "id": "9ef54bad",
   "metadata": {},
   "source": [
    "From this `site_category` and `app_category` look the most reasonable to encode. However without some legend or key of app categories and site categories I'm not sure how much information I will be able to derive from these classes or how reliable they will be. If I am not satisfied with my model performance I may try using label encoding to make use of these columns and see if any measurable performance improvement can be derived from using these categories.\n",
    "\n",
    "In the meanwhile I will plot all the numeric classes and see if any patterns can be deciphered from them. This will help me decide which classes may be most useful for developing and testing a smaller model before constructing the larger model processing more columns."
   ]
  },
  {
   "cell_type": "code",
   "execution_count": 7,
   "id": "6006e87f",
   "metadata": {},
   "outputs": [
    {
     "data": {
      "image/png": "[encoded data removed]",
      "text/plain": [
       "<Figure size 1200x1200 with 12 Axes>"
      ]
     },
     "metadata": {},
     "output_type": "display_data"
    }
   ],
   "source": [
    "fig, axes = plt.subplots(4, 3, figsize=(12, 12))\n",
    "\n",
    "# Used to generate a single labeled plot\n",
    "def gen_plot(axis, category, data):\n",
    "    axis.scatter(data[category], data.click)\n",
    "    axis.set_title(category)\n",
    "\n",
    "# The layout of plots\n",
    "cols_organized = [[\"C1\", \"C14\", \"C15\"], \n",
    "                  [\"C16\", \"C17\", \"C18\"], \n",
    "                  [\"C19\", \"C20\", \"C21\"], \n",
    "                  [\"banner_pos\", \"device_type\", \"device_conn_type\"]]\n",
    "\n",
    "# Iterate and plot all my plots\n",
    "for row in range(4):\n",
    "    for col in range(3):\n",
    "        gen_plot(axes[row][col], cols_organized[row][col], train_data)"
   ]
  },
  {
   "cell_type": "markdown",
   "id": "888e4075",
   "metadata": {},
   "source": [
    "From initial graphing, none of these classes seem to demonstrate a very clear threshold for each class. For my initial model, `C15` seems to contain the most discrete clusters just looking at the graphs so I may try to construct my model initially using `C15`.\n",
    "\n",
    "I will also create these plots to investigate the timestamp data. I'm specifically more interested in the month, day, and hour data as things like the holiday season may impact the click through rate of ads."
   ]
  },
  {
   "cell_type": "code",
   "execution_count": 8,
   "id": "6f65ea0f",
   "metadata": {},
   "outputs": [
    {
     "data": {
      "text/plain": [
       "Text(0.5, 1.0, 'Month')"
      ]
     },
     "execution_count": 8,
     "metadata": {},
     "output_type": "execute_result"
    },
    {
     "data": {
      "image/png": "[encoded data removed]",
      "text/plain": [
       "<Figure size 1200x400 with 3 Axes>"
      ]
     },
     "metadata": {},
     "output_type": "display_data"
    }
   ],
   "source": [
    "fig, axes = plt.subplots(1, 3, figsize=(12, 4))\n",
    "\n",
    "# Since timestamps are formatted as YYMMDDHH I will extract each component using modulus\n",
    "hour = train_data.hour % 100\n",
    "day = (train_data.hour - hour) // 100 % 100\n",
    "month = (train_data.hour - day - hour) // 10000 % 100\n",
    "\n",
    "# And plot\n",
    "axes[0].scatter(hour, train_data.click)\n",
    "axes[0].set_title(\"Hour\")\n",
    "axes[1].scatter(day, train_data.click)\n",
    "axes[1].set_title(\"Day\")\n",
    "axes[2].scatter(month, train_data.click)\n",
    "axes[2].set_title(\"Month\")"
   ]
  },
  {
   "cell_type": "markdown",
   "id": "b700fad0",
   "metadata": {},
   "source": [
    "While no pattern can be discerned once again from this initial overview of the dataset, considering that the dataset only contains 10 days worth of data the `hour` column may end up being the most useful so I will keep it around. I may also attempt to use this column for my initial model to see if temporal information helps achieve some degree of accuracy in prediction alongside the `C15` category.\n",
    "\n",
    "With this I will create the first preprocessing step as a function. This function extracts all of the columns that I may be able to use in my final model, though I will apply a second step to filter the specific columns I want to utilize."
   ]
  },
  {
   "cell_type": "code",
   "execution_count": 15,
   "id": "7b55c0f4",
   "metadata": {},
   "outputs": [],
   "source": [
    "'''\n",
    "The first preprocessing step for this dataset. Takes a Pandas dataframe, cleans NaN and NULL values, extracts/engineers most useful features\n",
    "and returns the resulting dataset of the preprocessing step.\n",
    "\n",
    "train is an arg used to identify if the set being preprocessed is from training data or not, this is necessary as the test data\n",
    "does not have a click column.\n",
    "'''\n",
    "def preprocess(df, train=True):\n",
    "    # Extract columns I want\n",
    "    filter_cols = ['id', 'click', 'hour', 'C1', 'banner_pos', 'C14', 'C15', 'C16', 'C17', 'C18', 'C19', 'C20', 'C21']\n",
    "    if not train:\n",
    "        filter_cols = filter_cols[0:0] + filter_cols[2:] # Skip click as it does not exist in the test data\n",
    "    df = df[filter_cols]\n",
    "\n",
    "    # Remove None and NaN\n",
    "    df = df.dropna()\n",
    "\n",
    "    # Extract hour data\n",
    "    df.hour = df.hour % 100\n",
    "    \n",
    "    return df"
   ]
  },
  {
   "cell_type": "markdown",
   "id": "d8e22dfa",
   "metadata": {},
   "source": [
    "Now I can clean and display the datasets."
   ]
  },
  {
   "cell_type": "code",
   "execution_count": 18,
   "id": "bd6688cc",
   "metadata": {},
   "outputs": [
    {
     "data": {
      "text/html": [
       "<div>\n",
       "<style scoped>\n",
       "    .dataframe tbody tr th:only-of-type {\n",
       "        vertical-align: middle;\n",
       "    }\n",
       "\n",
       "    .dataframe tbody tr th {\n",
       "        vertical-align: top;\n",
       "    }\n",
       "\n",
       "    .dataframe thead th {\n",
       "        text-align: right;\n",
       "    }\n",
       "</style>\n",
       "<table border=\"1\" class=\"dataframe\">\n",
       "  <thead>\n",
       "    <tr style=\"text-align: right;\">\n",
       "      <th></th>\n",
       "      <th>id</th>\n",
       "      <th>click</th>\n",
       "      <th>hour</th>\n",
       "      <th>C1</th>\n",
       "      <th>banner_pos</th>\n",
       "      <th>C14</th>\n",
       "      <th>C15</th>\n",
       "      <th>C16</th>\n",
       "      <th>C17</th>\n",
       "      <th>C18</th>\n",
       "      <th>C19</th>\n",
       "      <th>C20</th>\n",
       "      <th>C21</th>\n",
       "    </tr>\n",
       "  </thead>\n",
       "  <tbody>\n",
       "    <tr>\n",
       "      <th>0</th>\n",
       "      <td>7.112784e+18</td>\n",
       "      <td>0</td>\n",
       "      <td>3</td>\n",
       "      <td>1005</td>\n",
       "      <td>0</td>\n",
       "      <td>21611</td>\n",
       "      <td>320</td>\n",
       "      <td>50</td>\n",
       "      <td>2480</td>\n",
       "      <td>3</td>\n",
       "      <td>299</td>\n",
       "      <td>100111</td>\n",
       "      <td>61</td>\n",
       "    </tr>\n",
       "    <tr>\n",
       "      <th>1</th>\n",
       "      <td>1.733672e+19</td>\n",
       "      <td>0</td>\n",
       "      <td>3</td>\n",
       "      <td>1005</td>\n",
       "      <td>0</td>\n",
       "      <td>21611</td>\n",
       "      <td>320</td>\n",
       "      <td>50</td>\n",
       "      <td>2480</td>\n",
       "      <td>3</td>\n",
       "      <td>299</td>\n",
       "      <td>100111</td>\n",
       "      <td>61</td>\n",
       "    </tr>\n",
       "    <tr>\n",
       "      <th>2</th>\n",
       "      <td>1.387031e+18</td>\n",
       "      <td>0</td>\n",
       "      <td>2</td>\n",
       "      <td>1005</td>\n",
       "      <td>0</td>\n",
       "      <td>21647</td>\n",
       "      <td>320</td>\n",
       "      <td>50</td>\n",
       "      <td>2487</td>\n",
       "      <td>1</td>\n",
       "      <td>547</td>\n",
       "      <td>100188</td>\n",
       "      <td>51</td>\n",
       "    </tr>\n",
       "    <tr>\n",
       "      <th>3</th>\n",
       "      <td>1.263662e+18</td>\n",
       "      <td>0</td>\n",
       "      <td>5</td>\n",
       "      <td>1005</td>\n",
       "      <td>0</td>\n",
       "      <td>8330</td>\n",
       "      <td>320</td>\n",
       "      <td>50</td>\n",
       "      <td>761</td>\n",
       "      <td>3</td>\n",
       "      <td>175</td>\n",
       "      <td>100075</td>\n",
       "      <td>23</td>\n",
       "    </tr>\n",
       "    <tr>\n",
       "      <th>4</th>\n",
       "      <td>1.495655e+19</td>\n",
       "      <td>0</td>\n",
       "      <td>4</td>\n",
       "      <td>1005</td>\n",
       "      <td>0</td>\n",
       "      <td>21665</td>\n",
       "      <td>320</td>\n",
       "      <td>50</td>\n",
       "      <td>2493</td>\n",
       "      <td>3</td>\n",
       "      <td>35</td>\n",
       "      <td>100166</td>\n",
       "      <td>117</td>\n",
       "    </tr>\n",
       "  </tbody>\n",
       "</table>\n",
       "</div>"
      ],
      "text/plain": [
       "             id  click  hour    C1  banner_pos  ...   C17  C18  C19     C20  C21\n",
       "0  7.112784e+18      0     3  1005           0  ...  2480    3  299  100111   61\n",
       "1  1.733672e+19      0     3  1005           0  ...  2480    3  299  100111   61\n",
       "2  1.387031e+18      0     2  1005           0  ...  2487    1  547  100188   51\n",
       "3  1.263662e+18      0     5  1005           0  ...   761    3  175  100075   23\n",
       "4  1.495655e+19      0     4  1005           0  ...  2493    3   35  100166  117\n",
       "\n",
       "[5 rows x 13 columns]"
      ]
     },
     "execution_count": 18,
     "metadata": {},
     "output_type": "execute_result"
    }
   ],
   "source": [
    "# Clean\n",
    "train_data = preprocess(train_data)\n",
    "test_data = preprocess(test_data, False)\n",
    "\n",
    "# Display\n",
    "train_data.head(5)"
   ]
  },
  {
   "cell_type": "markdown",
   "id": "363d4908",
   "metadata": {},
   "source": [
    "My method for creating the logistic regressor involved defining the functions that I will use to train the weights of my logistic regressor and make predictions. To ensure that my code is able to produce a logistic regressor that approaches some optima in training the weights I first use `scikit-learn`'s breast cancer dataset as a toy example. The next section focuses on creating the regression model. I will also define a function to produce the Precision and Recall curve."
   ]
  },
  {
   "cell_type": "markdown",
   "id": "447817df",
   "metadata": {},
   "source": [
    "### Part 2 - Logistic Regression and SGD Model\n",
    "\n",
    "The rough overview of my model is as follows:\n",
    "1. I split the train data into a train and test set and split each set into the input and output classes\n",
    "2. I preprocess my data into a format that PyTorch can efficiently work with to train my weights\n",
    "3. I create a vector of 0s with 1 more element than the number of classes I'm going to use as input for my regressor. The final element will be the bias element\n",
    "4. I pass my training data, initialized weight vector, and vector of ground truths into an SGD function, and define a learning rate and batch size to tune the weights with SGD.\n",
    "\n",
    "Thus I will define in this section\n",
    "1. A processing function that operates on Pandas dataframes to produce train and test sets, separate output from input classes, and formats my datasets into values that the model will be ready to work on \n",
    "2. A function to compute the gradient of the logistic regression loss function\n",
    "3. An SGD function to compute the gradient for minibatches of the training data and tune the weights over some number of epochs\n",
    "4. An evaluation function which produces a confusion matrix given training data, weights, classes, and a classification threshold\n",
    "5. A function to produce the Precision vs. Recall curve for a given state of the model.\n",
    "\n",
    "First I must define how I will process data with these functions. Ideally I would like to work with tensors as much as possible to perform computation in bulk and take advantage of PyTorch's matrix computation capabilities."
   ]
  },
  {
   "cell_type": "markdown",
   "id": "8b8f59da",
   "metadata": {},
   "source": [
    "To do so, I will define $M_{b}$ to be a tensor such that every row of the tensor is a row in the train set with an extra column of $1$ for the bias term. For example suppose my minibatch only has 2 rows and I'm only using two features:\n",
    "$$\n",
    "M_{b}=\\begin{bmatrix}\n",
    "x_{12} & x_{11} & 1\\\\\n",
    "x_{22} & x_{21} & 1\n",
    "\\end{bmatrix}\n",
    "$$\n",
    "In this example, $x_{jk}$ is defined as $j$ being the a row in the set, and $k$ being a feature within that row.\n",
    "\n",
    "The reason for this is so that I can compute $\\hat{\\mathbf{y}}$ by multiplying the entire $M_{b}$ matrix by the weight vector $\\mathbf{w}$. If $M_{b}\\mathbf{w}=\\mathbf{\\alpha}$ then every element of $\\mathbf{\\alpha}$ is the result of the dot product between a row of $M_{b}$ and $\\mathbf{w}$.\n",
    "\n",
    "I will write the function to produce this $M_{b}$ given a pandas dataframe containing only the input classes, a series containing only the test class/output class, and a proportion used to split the data"
   ]
  },
  {
   "cell_type": "code",
   "execution_count": null,
   "id": "192674ee",
   "metadata": {},
   "outputs": [],
   "source": [
    "'''\n",
    "data must be a dataframe with only the classes we want to work with\n",
    "target must be a series with only the target class\n",
    "test_size is 0.25 by default\n",
    "Returns 4 tensors in the order M_b_train, y_train_vec, M_b_test, y_test_vec\n",
    "'''\n",
    "def data_to_tensors(data, target, prop=0.25):\n",
    "    # Perform the train test split\n",
    "    X_train, X_test, y_train, y_test = train_test_split(data, target, test_size=prop)\n",
    "\n",
    "    # Create the train and test vectors with shapes that will behave well with the pipeline later down the line\n",
    "    y_train_vec = torch.tensor(y_train.to_numpy(), dtype=torch.float32).view((len(y_train), 1))\n",
    "    y_test_vec = torch.tensor(y_test.to_numpy(), dtype=torch.float32).view((len(y_test), 1))\n",
    "\n",
    "    X_train_mat = torch.tensor(X_train.to_numpy(), dtype=torch.float32)\n",
    "    M_b_train = torch.cat((X_train_mat, torch.ones((X_train_mat.shape[0], 1), dtype=torch.float32)), dim=1)\n",
    "\n",
    "    X_test_mat = torch.tensor(X_test.to_numpy(), dtype=torch.float32)\n",
    "    M_b_test = torch.cat((X_test_mat, torch.ones((X_test_mat.shape[0], 1), dtype=torch.float32)), dim=1)\n",
    "\n",
    "    return (M_b_train, M_b_test, y_train_vec, y_test_vec)"
   ]
  },
  {
   "cell_type": "markdown",
   "id": "9453c718",
   "metadata": {},
   "source": [
    "For logistic regression, classification is performed using the sigmoid activation function. The **Sigmoid** function is defined as follows:\n",
    "$$\n",
    "\\sigma(\\alpha)=\\frac{1}{1+\\text{exp}(-\\alpha)}\n",
    "$$\n",
    "To make a prediction with this function, we compute the following:\n",
    "$$\n",
    "\\sigma(\\textbf{w}^{T} \\textbf{x})\n",
    "$$\n",
    "Where $\\textbf{w}$ represents the weights of the activation we tune using SGD, and $\\textbf{x}$ represents a feature vector. The sigmoid function itself is implemented by the PyTorch library in `torch.sigmoid`. This is why I wanted to set up my data so that $\\textbf{w}^{T} \\textbf{x}$ can be computed simply in code. My loss function will need me to compute several $\\hat{y}_{i}$ so I would prefer to be able to compute every prediction at once with a matrix-vector multiplication.\n"
   ]
  },
  {
   "cell_type": "markdown",
   "id": "1644f753",
   "metadata": {},
   "source": [
    "First we need to define not just the loss function, but specifically the gradient of the loss function. For a binary classifier defined by a single sigmoid activation, the gradient of the binary cross entropy loss function is:\n",
    "$$\n",
    "\\nabla_{w}L=\\sum_{i=1}^{m}(\\hat{y}_{i}-y_{i})\\textbf{x}_{i}\n",
    "$$\n",
    "If we're using stochastic gradient descent we will perform a summation over a mini batch as opposed to the entire $m$, thus:\n",
    "$$\n",
    "\\nabla_{w}L=\\sum_{i=1}^{m_{b}}(\\hat{y}_{i}-y_{i})\\textbf{x}_{i}\n",
    "$$\n",
    "where we define $m_{b}$ to be some mini batch derived from the entire train set.\n",
    "\n",
    "My gradient compute function should be able to accept any sized dataset/batch. The function below implements the computation of the gradient of the loss function under the assumption that the data has been processed with `data_to_tensors` and we are receiving PyTorch tensors as input.\n",
    "\n",
    "To compute this gradient I will\n",
    "1. Compute $M_{b}\\mathbf{w}=\\mathbf{\\alpha}$ to produce a vector of $\\mathbf{w}^{T} \\mathbf{x}$.\n",
    "2. Apply the `sigmoid` activation to $\\mathbf{\\alpha}$ element-wise to compute a vector of every $\\hat{y}_{i}$ since $\\sigma(\\alpha_{i})=\\hat{y}_{i}$\n",
    "3. Compute $\\hat{\\mathbf{y}}-\\mathbf{y}$ where $\\mathbf{y}$ is the vector of the ground truth values\n",
    "4. Multiply the result to $M_{b}$ elementwise since each row of $M_{b}$ is $\\mathbf{x}_{i}$ with an extra $1$ to incorporate the bias term correctly\n",
    "5. Take the sum of all the rows of the resultant matrix to perform the summation"
   ]
  },
  {
   "cell_type": "code",
   "execution_count": 20,
   "id": "591e6518",
   "metadata": {},
   "outputs": [],
   "source": [
    "'''\n",
    "If n is the number of classes, and m is the number of rows, then\n",
    "w is an (n + 1) x 1 tensor with the weights (and bias) of the model\n",
    "M_b is an m x (n + 1) tensor representing the data with all the input classes and an extra column of ones for easy computation of y-hat\n",
    "classes is an m x 1 tensor with the ground truth values\n",
    "'''\n",
    "def logistic_gradient(w, M_b, classes):\n",
    "    # Compute all y_hat\n",
    "    y_hat = torch.matmul(M_b, w)\n",
    "    y_hat = torch.sigmoid(y_hat)\n",
    "\n",
    "    # Compute the difference\n",
    "    err = y_hat - classes\n",
    "\n",
    "    # Multiple element wise across M_b\n",
    "    sum_terms = err * M_b\n",
    "\n",
    "    # Perform the summation\n",
    "    grad = torch.sum(sum_terms, dim=0).view((w.shape[0], 1))\n",
    "    return grad\n"
   ]
  },
  {
   "cell_type": "markdown",
   "id": "43a52a03",
   "metadata": {},
   "source": [
    "The formula, generically, for **Gradient Descent**, is as follows:\n",
    "$$\n",
    "\\mathbf{w}_{k+1}=\\mathbf{w}_{k}-\\eta\\nabla_{\\mathbf{w}}L(\\mathbf{w}_{k})\n",
    "$$\n",
    "**Stochastic Gradient Descent** is simply an extension of this using only minibatches or portions of the train set. Thus, the **Stochastic Gradient Descent** algorithm must take the following parameters\n",
    "1. The weights (bias included) to be stepped/optimized for: $\\mathbf{w}$\n",
    "2. The training data, processed into $M_{b}$ and $\\mathbf{y}$\n",
    "3. The number of iterations or epochs\n",
    "4. The hyperparameter $\\eta$ or the learning rate\n",
    "5. The hyperparameter $b$ or the batch size"
   ]
  },
  {
   "cell_type": "code",
   "execution_count": 52,
   "id": "97e1aa02",
   "metadata": {},
   "outputs": [],
   "source": [
    "def sgd(w, M_b, y, epochs, learn_rate, batch_size, print_rate=-1):\n",
    "    for epoch in range(epochs):\n",
    "        for i in range(0, M_b.shape[0], batch_size):\n",
    "            # Select a mini-batch of 'batch_size'\n",
    "            batch_indices = np.random.choice(M_b.shape[0], batch_size, replace=False)\n",
    "            xi = M_b[batch_indices]\n",
    "            yi = y[batch_indices]\n",
    "\n",
    "            g = logistic_gradient(w, xi, yi)\n",
    "\n",
    "            w = w - learn_rate * g\n",
    "        \n",
    "        if print_rate > 0 and epoch % print_rate == 0:\n",
    "            print(\"Epoch\", epoch, \"completed\")\n",
    "    \n",
    "    return w"
   ]
  },
  {
   "cell_type": "markdown",
   "id": "cf13135f",
   "metadata": {},
   "source": [
    "To compute a confusion matrix, we simply have to compute $\\sigma(M_{b}\\mathbf{w})=\\hat{\\mathbf{y}}$ using $M_{b}$ generated from the training set instead, set a threshold to decide if the prediction is positive or negative based on the result probability, and then count the number of true positives, true negatives, false positives, and false negatives."
   ]
  },
  {
   "cell_type": "code",
   "execution_count": 91,
   "id": "3a3b39c2",
   "metadata": {},
   "outputs": [],
   "source": [
    "'''\n",
    "Returns in the order\n",
    "0 - True Positive\n",
    "1 - False Positive\n",
    "2 - False Negative\n",
    "3 - True Negative\n",
    "'''\n",
    "def comp_conf_matrix(w, M_b_test, y_test, threshold):\n",
    "    # Compute all y_hat\n",
    "    y_hat = torch.matmul(M_b_test, w)\n",
    "    y_hat = torch.sigmoid(y_hat)\n",
    "\n",
    "    # Initialize values\n",
    "    fp = 0\n",
    "    tp = 0\n",
    "    fn = 0\n",
    "    tn = 0\n",
    "\n",
    "    # Count\n",
    "    for i in range(y_hat.shape[0]):\n",
    "        pred = 1 if y_hat[i] > threshold else 0\n",
    "\n",
    "        if y_test[i] == 1 and pred == 1:\n",
    "            tp += 1\n",
    "        elif y_test[i] == 0 and pred == 0:\n",
    "            tn += 1\n",
    "        elif y_test[i] == 1 and pred == 0:\n",
    "            fn += 1\n",
    "        else:\n",
    "            fp += 1\n",
    "    \n",
    "    # Return\n",
    "    return (tp, fp, fn, tn)"
   ]
  },
  {
   "cell_type": "markdown",
   "id": "f6dd7dd1",
   "metadata": {},
   "source": [
    "Then to compute the precision-recall curve, I just have to compute precision and recall for different thresholds between 1 and 0"
   ]
  },
  {
   "cell_type": "code",
   "execution_count": 94,
   "id": "a22ea895",
   "metadata": {},
   "outputs": [],
   "source": [
    "def gen_prec_recall(w, M_b_test, y_test, points):\n",
    "    precision = []\n",
    "    recall = []\n",
    "    counter = 0\n",
    "    for i in np.linspace(0.0, 0.01, num=points):\n",
    "        # Compute the confusion matrix\n",
    "        tp, fp, fn, tn = comp_conf_matrix(w, M_b_test, y_test, i)\n",
    "        \n",
    "        p = []\n",
    "        r = []\n",
    "        try:\n",
    "            p = [tp / (tp + fp)]\n",
    "            r = [tp / (tp + fn)]\n",
    "        except:\n",
    "            continue\n",
    "\n",
    "        precision = precision + p\n",
    "        recall = recall + r\n",
    "    \n",
    "    precision = np.array(precision, dtype=np.float32)\n",
    "    recall = np.array(recall, dtype=np.float32)\n",
    "    \n",
    "    return (precision, recall)"
   ]
  },
  {
   "cell_type": "markdown",
   "id": "62f8cf28",
   "metadata": {},
   "source": [
    "### Part 2.5 - Toy Example\n",
    "\n",
    "To verify that I can generate a well performing model, I test using the scikit learn breast cancer dataset"
   ]
  },
  {
   "cell_type": "code",
   "execution_count": 76,
   "id": "c213ad45",
   "metadata": {},
   "outputs": [
    {
     "name": "stdout",
     "output_type": "stream",
     "text": [
      "torch.Size([426, 31])\n",
      "0 0 93 50\n",
      "Accuracy: 0.34965034965034963\n"
     ]
    }
   ],
   "source": [
    "# Load and preprocess data\n",
    "data, target = load_breast_cancer(return_X_y=True, as_frame=True)\n",
    "X_train, X_test, y_train, y_test = data_to_tensors(data, target)\n",
    "\n",
    "# Create and test performance before training\n",
    "w = torch.zeros((X_train.shape[1], 1), dtype=torch.float32)\n",
    "tp, fp, fn, tn = comp_conf_matrix(w, X_test, y_test, 0.5)\n",
    "print(tp, fp, fn, tn)\n",
    "\n",
    "# Print metrics\n",
    "print(\"Accuracy:\", (tp + tn) / (tp + fp + tn + fn))"
   ]
  },
  {
   "cell_type": "markdown",
   "id": "08ec2faa",
   "metadata": {},
   "source": [
    "Now I will train the weights `w`"
   ]
  },
  {
   "cell_type": "code",
   "execution_count": 77,
   "id": "f7349e64",
   "metadata": {},
   "outputs": [
    {
     "name": "stdout",
     "output_type": "stream",
     "text": [
      "Epoch 0 completed\n",
      "Epoch 1000 completed\n",
      "Epoch 2000 completed\n",
      "Epoch 3000 completed\n",
      "Epoch 4000 completed\n",
      "Epoch 5000 completed\n",
      "Epoch 6000 completed\n",
      "Epoch 7000 completed\n",
      "Epoch 8000 completed\n",
      "Epoch 9000 completed\n",
      "86 5 7 45\n",
      "Accuracy: 0.916083916083916\n"
     ]
    }
   ],
   "source": [
    "# Train\n",
    "w = sgd(w, X_train, y_train, 10000, 1e-3, 50, print_rate=1000)\n",
    "\n",
    "# Predict\n",
    "tp, fp, fn, tn = comp_conf_matrix(w, X_test, y_test, 0.5)\n",
    "print(tp, fp, fn, tn)\n",
    "print(\"Accuracy:\", (tp + tn) / (tp + fp + tn + fn))"
   ]
  },
  {
   "cell_type": "markdown",
   "id": "fd094328",
   "metadata": {},
   "source": [
    "As you can see, the accuracy has improved by training the weights, demonstrating that these functions as defined are effective. I'll also test my precision vs recall function here."
   ]
  },
  {
   "cell_type": "code",
   "execution_count": 95,
   "id": "4704cb4d",
   "metadata": {},
   "outputs": [],
   "source": [
    "precision, recall = gen_prec_recall(w, X_test, y_test, 100)"
   ]
  },
  {
   "cell_type": "code",
   "execution_count": 90,
   "id": "b5bb802b",
   "metadata": {},
   "outputs": [
    {
     "data": {
      "image/png": "[encoded data removed]",
      "text/plain": [
       "<Figure size 640x480 with 1 Axes>"
      ]
     },
     "metadata": {},
     "output_type": "display_data"
    }
   ],
   "source": [
    "plt.scatter(precision, recall)\n",
    "plt.show()"
   ]
  },
  {
   "cell_type": "markdown",
   "id": "247ec35a",
   "metadata": {},
   "source": [
    "In the case above, the model seems to be pretty consistent in its predictions, so with all the columns of data we seem to be lacking uncertainty. We have two data points so it's hard to extrapolate a curve from this but given the values I can infer this model is quite performant, and there's a certain threshold for the thresholds where while we'd be making a tradeoff between The following model attempts to introduce more uncertainty by reducing the number of columns to work with."
   ]
  },
  {
   "cell_type": "code",
   "execution_count": 101,
   "id": "c621dea0",
   "metadata": {},
   "outputs": [
    {
     "name": "stdout",
     "output_type": "stream",
     "text": [
      "torch.Size([426, 3])\n",
      "Epoch 0 completed\n",
      "Epoch 1000 completed\n",
      "Epoch 2000 completed\n",
      "Epoch 3000 completed\n",
      "Epoch 4000 completed\n",
      "Epoch 5000 completed\n",
      "Epoch 6000 completed\n",
      "Epoch 7000 completed\n",
      "Epoch 8000 completed\n",
      "Epoch 9000 completed\n",
      "86 5 7 45\n",
      "Accuracy: 0.916083916083916\n"
     ]
    },
    {
     "data": {
      "image/png": "[encoded data removed]",
      "text/plain": [
       "<Figure size 640x480 with 1 Axes>"
      ]
     },
     "metadata": {},
     "output_type": "display_data"
    }
   ],
   "source": [
    "# Load and preprocess data\n",
    "data, target = load_breast_cancer(return_X_y=True, as_frame=True)\n",
    "data = data[['mean radius', 'mean texture']]\n",
    "X_train, X_test, y_train, y_test = data_to_tensors(data, target)\n",
    "\n",
    "w = torch.zeros((X_train.shape[1], 1), dtype=torch.float32)\n",
    "w = sgd(w, X_train, y_train, 10000, 1e-3, 50, print_rate=1000)\n",
    "print(tp, fp, fn, tn)\n",
    "print(\"Accuracy:\", (tp + tn) / (tp + fp + tn + fn))\n",
    "\n",
    "precision, recall = gen_prec_recall(w, X_test, y_test, 1000)\n",
    "plt.scatter(precision, recall)\n",
    "plt.show()"
   ]
  },
  {
   "cell_type": "markdown",
   "id": "3b2a1bb1",
   "metadata": {},
   "source": [
    "Interestingly, this led to variation in the precision, but not the recall, so our false positive and true negative counts are the counts that are varying."
   ]
  },
  {
   "cell_type": "markdown",
   "id": "c920fce9",
   "metadata": {},
   "source": [
    "### Part 3 - Simple Model\n",
    "\n",
    "The following code tests the pipeline as defined above with a portion of the train data using only `C15` and `hour` columns"
   ]
  },
  {
   "cell_type": "code",
   "execution_count": 66,
   "id": "c7065053",
   "metadata": {},
   "outputs": [
    {
     "name": "stdout",
     "output_type": "stream",
     "text": [
      "torch.Size([328000, 3])\n",
      "Before Training\n",
      "0 0 13779 68221\n",
      "Accuracy: 0.8319634146341464\n",
      "\n",
      "Epoch 0 completed\n",
      "Epoch 1000 completed\n",
      "Epoch 2000 completed\n",
      "Epoch 3000 completed\n",
      "Epoch 4000 completed\n",
      "Epoch 5000 completed\n",
      "Epoch 6000 completed\n",
      "Epoch 7000 completed\n",
      "Epoch 8000 completed\n",
      "Epoch 9000 completed\n",
      "\n",
      "\n",
      "After Training\n",
      "0 0 13779 68221\n",
      "Accuracy: 0.8319634146341464\n"
     ]
    }
   ],
   "source": [
    "# Convert to tensors\n",
    "model_data = train_data[['C15', 'hour']]\n",
    "model_target = train_data[['click']].squeeze()\n",
    "X_train, X_test, y_train, y_test = data_to_tensors(model_data, model_target, 0.2)\n",
    "\n",
    "# Create weights\n",
    "w = torch.zeros((X_train.shape[1], 1), dtype=torch.float32)\n",
    "print(\"Before Training\")\n",
    "tp, fp, fn, tn = comp_conf_matrix(w, X_test, y_test, 0.5)\n",
    "print(tp, fp, fn, tn)\n",
    "print(\"Accuracy:\", (tp + tn) / (tp + fp + tn + fn))\n",
    "\n",
    "# Train\n",
    "print()\n",
    "w = sgd(w, X_train, y_train, 10000, 1e-3, 50000, print_rate=1000)\n",
    "print()\n",
    "\n",
    "# Predict\n",
    "print(\"\\nAfter Training\")\n",
    "tp, fp, fn, tn = comp_conf_matrix(w, X_test, y_test, 0.5)\n",
    "print(tp, fp, fn, tn)\n",
    "print(\"Accuracy:\", (tp + tn) / (tp + fp + tn + fn))"
   ]
  },
  {
   "cell_type": "markdown",
   "id": "91d84e8b",
   "metadata": {},
   "source": [
    "Our accuracy for the same threshold of `0.5` has not improved, however we can still attempt to plot a precision vs recall curve for the given weights"
   ]
  },
  {
   "cell_type": "code",
   "execution_count": 69,
   "id": "0296eada",
   "metadata": {},
   "outputs": [],
   "source": [
    "precision, recall = gen_prec_recall(w, X_test, y_test, 100)"
   ]
  },
  {
   "cell_type": "code",
   "execution_count": 72,
   "id": "47171129",
   "metadata": {},
   "outputs": [
    {
     "data": {
      "text/plain": [
       "0"
      ]
     },
     "execution_count": 72,
     "metadata": {},
     "output_type": "execute_result"
    }
   ],
   "source": [
    "len(precision)"
   ]
  },
  {
   "cell_type": "markdown",
   "id": "d723dd21",
   "metadata": {},
   "source": [
    "Unfortunately since given the current weights I am always predicting negative I will not be able to compute a precision so I cannot generate a precision vs recall curve. The solution to this problem is either to run my model over more epochs, or include more columns, which I will try in a later section in this notebook."
   ]
  },
  {
   "cell_type": "markdown",
   "id": "495a8416",
   "metadata": {},
   "source": [
    "### Part 4 - GPU Acceleration\n",
    "\n",
    "I rewrite my logistic gradient to run on the GPU"
   ]
  },
  {
   "cell_type": "code",
   "execution_count": 74,
   "id": "82c2c3df",
   "metadata": {},
   "outputs": [],
   "source": [
    "def logistic_gradient_gpu(w, M_b, classes):\n",
    "    # Move everything to the GPU\n",
    "    device = torch.device(\"cuda\")\n",
    "    w = w.to(device)\n",
    "    M_b = M_b.to(device)\n",
    "    classes = classes.to(device)\n",
    "\n",
    "    # Compute all y_hat\n",
    "    y_hat = torch.matmul(M_b, w)\n",
    "    y_hat = torch.sigmoid(y_hat)\n",
    "\n",
    "    # Compute the difference\n",
    "    err = y_hat - classes\n",
    "\n",
    "    # Multiple element wise across M_b\n",
    "    sum_terms = err * M_b\n",
    "\n",
    "    # Perform the summation\n",
    "    grad = torch.sum(sum_terms, dim=0).view((w.shape[0], 1))\n",
    "\n",
    "    # Return to CPU\n",
    "    grad = grad.to(\"cpu\")\n",
    "    return grad\n",
    "\n",
    "def sgd_gpu(w, M_b, y, epochs, learn_rate, batch_size, print_rate=-1):\n",
    "    for epoch in range(epochs):\n",
    "        for i in range(0, M_b.shape[0], batch_size):\n",
    "            # Select a mini-batch of 'batch_size'\n",
    "            batch_indices = np.random.choice(M_b.shape[0], batch_size, replace=False)\n",
    "            xi = M_b[batch_indices]\n",
    "            yi = y[batch_indices]\n",
    "\n",
    "            g = logistic_gradient_gpu(w, xi, yi)\n",
    "\n",
    "            w = w - learn_rate * g\n",
    "        \n",
    "        if print_rate > 0 and epoch % print_rate == 0:\n",
    "            print(\"Epoch\", epoch, \"completed\")\n",
    "    \n",
    "    return w"
   ]
  },
  {
   "cell_type": "markdown",
   "id": "60a101c2",
   "metadata": {},
   "source": [
    "The following code uses the GPU version instead"
   ]
  },
  {
   "cell_type": "code",
   "execution_count": null,
   "id": "b8067ab6",
   "metadata": {},
   "outputs": [],
   "source": [
    "# Convert to tensors\n",
    "model_data = train_data[['C15', 'hour']]\n",
    "model_target = train_data[['click']].squeeze()\n",
    "X_train, X_test, y_train, y_test = data_to_tensors(model_data, model_target, 0.2)\n",
    "\n",
    "# Create weights\n",
    "w = torch.zeros((X_train.shape[1], 1), dtype=torch.float32)\n",
    "print(\"Before Training\")\n",
    "tp, fp, fn, tn = comp_conf_matrix(w, X_test, y_test, 0.5)\n",
    "print(tp, fp, fn, tn)\n",
    "print(\"Accuracy:\", (tp + tn) / (tp + fp + tn + fn))\n",
    "\n",
    "# Train\n",
    "print()\n",
    "w = sgd_gpu(w, X_train, y_train, 10000, 1e-3, 50000, print_rate=1000)\n",
    "print()\n",
    "\n",
    "# Predict\n",
    "print(\"\\nAfter Training\")\n",
    "tp, fp, fn, tn = comp_conf_matrix(w, X_test, y_test, 0.5)\n",
    "print(tp, fp, fn, tn)\n",
    "print(\"Accuracy:\", (tp + tn) / (tp + fp + tn + fn))"
   ]
  },
  {
   "cell_type": "markdown",
   "id": "258fb2a5",
   "metadata": {},
   "source": [
    "I am unable to run this code on my current device, as my CUDA compute capability is 5.0 which is no longer supported by the version of PyTorch used by this environment."
   ]
  },
  {
   "cell_type": "markdown",
   "id": "93180b41",
   "metadata": {},
   "source": [
    "### Part 5 - All Columns\n",
    "\n",
    "This time I will try performing the regression task with all of the columns"
   ]
  },
  {
   "cell_type": "code",
   "execution_count": 102,
   "id": "ce5777f9",
   "metadata": {},
   "outputs": [
    {
     "name": "stdout",
     "output_type": "stream",
     "text": [
      "torch.Size([328000, 12])\n",
      "Before Training\n",
      "0 0 13937 68063\n",
      "Accuracy: 0.8300365853658537\n",
      "\n",
      "Epoch 0 completed\n",
      "Epoch 1000 completed\n",
      "Epoch 2000 completed\n",
      "Epoch 3000 completed\n",
      "Epoch 4000 completed\n",
      "Epoch 5000 completed\n",
      "Epoch 6000 completed\n",
      "Epoch 7000 completed\n",
      "Epoch 8000 completed\n",
      "Epoch 9000 completed\n",
      "\n",
      "\n",
      "After Training\n",
      "7395 30093 6542 37970\n",
      "Accuracy: 0.5532317073170732\n"
     ]
    }
   ],
   "source": [
    "# Convert to tensors\n",
    "model_data = train_data[['hour', 'C1', 'banner_pos', 'C14', 'C15', 'C16', 'C17', 'C18', 'C19', 'C20', 'C21']]\n",
    "model_target = train_data[['click']].squeeze()\n",
    "X_train, X_test, y_train, y_test = data_to_tensors(model_data, model_target, 0.2)\n",
    "\n",
    "# Create weights\n",
    "w = torch.zeros((X_train.shape[1], 1), dtype=torch.float32)\n",
    "print(\"Before Training\")\n",
    "tp, fp, fn, tn = comp_conf_matrix(w, X_test, y_test, 0.5)\n",
    "print(tp, fp, fn, tn)\n",
    "print(\"Accuracy:\", (tp + tn) / (tp + fp + tn + fn))\n",
    "\n",
    "# Train\n",
    "print()\n",
    "w = sgd(w, X_train, y_train, 10000, 1e-3, 100000, print_rate=1000)\n",
    "print()\n",
    "\n",
    "# Predict\n",
    "print(\"\\nAfter Training\")\n",
    "tp, fp, fn, tn = comp_conf_matrix(w, X_test, y_test, 0.5)\n",
    "print(tp, fp, fn, tn)\n",
    "print(\"Accuracy:\", (tp + tn) / (tp + fp + tn + fn))"
   ]
  },
  {
   "cell_type": "markdown",
   "id": "401afec3",
   "metadata": {},
   "source": [
    "Alternatively"
   ]
  },
  {
   "cell_type": "code",
   "execution_count": null,
   "id": "e2108567",
   "metadata": {},
   "outputs": [],
   "source": [
    "# Convert to tensors\n",
    "model_data = train_data[['hour', 'C1', 'banner_pos', 'C14', 'C15', 'C16', 'C17', 'C18', 'C19', 'C20', 'C21']]\n",
    "model_target = train_data[['click']].squeeze()\n",
    "X_train, X_test, y_train, y_test = data_to_tensors(model_data, model_target, 0.2)\n",
    "\n",
    "# Create weights\n",
    "w = torch.zeros((X_train.shape[1], 1), dtype=torch.float32)\n",
    "print(\"Before Training\")\n",
    "tp, fp, fn, tn = comp_conf_matrix(w, X_test, y_test, 0.5)\n",
    "print(tp, fp, fn, tn)\n",
    "print(\"Accuracy:\", (tp + tn) / (tp + fp + tn + fn))\n",
    "\n",
    "# Train\n",
    "print()\n",
    "w = sgd_gpu(w, X_train, y_train, 10000, 1e-3, 100000, print_rate=1000)\n",
    "print()\n",
    "\n",
    "# Predict\n",
    "print(\"\\nAfter Training\")\n",
    "tp, fp, fn, tn = comp_conf_matrix(w, X_test, y_test, 0.5)\n",
    "print(tp, fp, fn, tn)\n",
    "print(\"Accuracy:\", (tp + tn) / (tp + fp + tn + fn))"
   ]
  },
  {
   "cell_type": "markdown",
   "id": "49b73f65",
   "metadata": {},
   "source": []
  }
 ],
 "metadata": {
  "kernelspec": {
   "display_name": ".venv",
   "language": "python",
   "name": "python3"
  },
  "language_info": {
   "codemirror_mode": {
    "name": "ipython",
    "version": 3
   },
   "file_extension": ".py",
   "mimetype": "text/x-python",
   "name": "python",
   "nbconvert_exporter": "python",
   "pygments_lexer": "ipython3",
   "version": "3.11.13"
  }
 },
 "nbformat": 4,
 "nbformat_minor": 5
}

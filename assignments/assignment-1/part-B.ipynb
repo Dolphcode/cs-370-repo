{
 "cells": [
  {
   "cell_type": "markdown",
   "id": "6ea7c10b",
   "metadata": {},
   "source": [
    "# Homework 1 - Part B"
   ]
  }
 ],
 "metadata": {
  "language_info": {
   "name": "python"
  }
 },
 "nbformat": 4,
 "nbformat_minor": 5
}

{
 "cells": [
  {
   "cell_type": "markdown",
   "id": "90e616d7",
   "metadata": {},
   "source": [
    "# Placeholder\n",
    "\n",
    "Name the files names in the order you expect the TA to see their output. "
   ]
  },
  {
   "cell_type": "markdown",
   "id": "4aef449c",
   "metadata": {},
   "source": [
    "```\n",
    "assignment-1/part-A.ipynb\n",
    "\n",
    "assignment-1/part-B.ipynb\n",
    "```\n",
    "\n",
    "In the above example the TA will see the output of `assignment-1/part-A.ipynb` first, then `assignment-1/part-B.ipynb` to grade your assignment 1. If there is a part that itself is a folder, name the subfolder as `part-A` or `part-B` and put the files inside it.\n",
    "\n"
   ]
  }
 ],
 "metadata": {
  "kernelspec": {
   "display_name": ".venv",
   "language": "python",
   "name": "python3"
  },
  "language_info": {
   "name": "python",
   "version": "3.10.12"
  }
 },
 "nbformat": 4,
 "nbformat_minor": 5
}

{
 "cells": [
  {
   "cell_type": "markdown",
   "id": "b317b4af",
   "metadata": {},
   "source": [
    "# Homework 1 - Part A\n",
    "Use Monte Carlo experiments to show that, for a fixed number of samples $m$, data become effectively “sparser” as the input $n$ dimension grows.\n",
    "\n",
    "For each $n\\in\\{1,2,5,10,20,50,100\\}$, draw $n$ i.i.d. points $x_{1},\\dots,x_{m}\\sim\\text{Unif}([0,1]^{n})$\n",
    "\n",
    "Compute the nearest-neighbor (NN) distance for each point and report the mean NN distance as a function of $n$. Plot it as a function of $n$.\n",
    "\n",
    "---\n",
    "\n",
    "To start, I will import the `torch` library to make use of PyTorch tensors, as the documentation lists some functionality I will utilize to generate $n$ dimensional vectors whose elements fall in the set $[0,1]$."
   ]
  },
  {
   "cell_type": "code",
   "execution_count": 36,
   "id": "5332e448",
   "metadata": {},
   "outputs": [],
   "source": [
    "import torch\n",
    "import torch.linalg\n",
    "\n",
    "# Using numpy later to track minimums\n",
    "import numpy as np\n",
    "\n",
    "# For plotting\n",
    "import matplotlib.pyplot as plt"
   ]
  },
  {
   "cell_type": "markdown",
   "id": "4f4655b2",
   "metadata": {},
   "source": [
    "To compute a mean nearest-neighbor distance for dimensions $n$ given a fixed $m$ I will construct a function that performs the following steps\n",
    "1. Creates an array of $n$ dimensional vectors within the unit plane, cube, or $n$-dimensional hypercube centered at the origin for $\\mathbb{R}^{n}$\n",
    "2. For each vector, find the minimum of the distances between that vector and other vectors in the array, add this to some aggregator/sum variable\n",
    "3. Divide by $m$, return that value\n",
    "\n",
    "**Tensors** in torch are how I will represent a size $m$ array of $n$ dimensional vectors. Based on PyTorch documentation I have found that 2D tensors can be treated as 2D arrays in row-major order, so I will construct an $m \\times n$ tensor where each row is a vector whose components are all in the set $[0,1]$.\n",
    "\n",
    "To both create the tensor and sample from the uniform distribution, I use `torch.rand` as exemplified by the following code:"
   ]
  },
  {
   "cell_type": "code",
   "execution_count": 31,
   "id": "d5d30213",
   "metadata": {},
   "outputs": [
    {
     "data": {
      "text/plain": [
       "tensor([0.6378, 0.0314])"
      ]
     },
     "execution_count": 31,
     "metadata": {},
     "output_type": "execute_result"
    }
   ],
   "source": [
    "# Fix M and N, these will be function parameters\n",
    "M = 10\n",
    "N = 2\n",
    "\n",
    "# Create the array of vectors, an M by N tensor\n",
    "arr = torch.rand(M, N)\n",
    "\n",
    "# Display row 0, which should be a 2D vector\n",
    "arr[0]"
   ]
  },
  {
   "cell_type": "markdown",
   "id": "a7d37b2f",
   "metadata": {},
   "source": [
    "With the ability to create tensors and represent arrays of vectors, all I need left is some way to compute distances between vectors.\n",
    "\n",
    "Torch offers the `vector_norm` function for computing the norm of a vector, so I can take any two rows, subtract them, and compute the norm. "
   ]
  },
  {
   "cell_type": "code",
   "execution_count": 32,
   "id": "8dab0a49",
   "metadata": {},
   "outputs": [
    {
     "data": {
      "text/plain": [
       "tensor(0.6508)"
      ]
     },
     "execution_count": 32,
     "metadata": {},
     "output_type": "execute_result"
    }
   ],
   "source": [
    "torch.linalg.vector_norm(arr[0] - arr[1])"
   ]
  },
  {
   "cell_type": "markdown",
   "id": "8ac3dca8",
   "metadata": {},
   "source": [
    "These are about all the basic tools I need from PyTorch to be able to write a function to find the nearest-neighbor distance per vector. To avoid redundant computation I will keep track of the min distance for every vector so that I only have to iterate through subsequent vectors for any one vector."
   ]
  },
  {
   "cell_type": "code",
   "execution_count": 33,
   "id": "6fcc6e6f",
   "metadata": {},
   "outputs": [],
   "source": [
    "'''\n",
    "Given a fixed dimension and sample size, uses Monte-Carlo method to compute\n",
    "a mean nearest-neighbor distance\n",
    "n   - The # of dimensions in randomly generated vectors\n",
    "m   - The # of samples\n",
    "'''\n",
    "def mean_nearest_neighbors(n, m):\n",
    "    # Generate an m by n tensor (m sized array of n dimensional vectors)\n",
    "    t = torch.rand(m, n)\n",
    "\n",
    "    # Create an array of minimum distances\n",
    "    # Since norm cannot be negative, we will use negative values to indicate that a distance\n",
    "    #   has not been computed.\n",
    "    nearest_neighbors = np.full((m), -1.0)\n",
    "\n",
    "    # Iterate to identify nearest neighbor distances\n",
    "    for curr_idx in range(0, m - 1):\n",
    "        for comp_idx in range(curr_idx, m):\n",
    "            # Compute the norm between the two selected vectors\n",
    "            dist = torch.linalg.vector_norm(t[curr_idx] - t[comp_idx])\n",
    "\n",
    "            # Fill or replace the value in nearest_neighbors\n",
    "            if nearest_neighbors[curr_idx] < 0 or dist < nearest_neighbors[curr_idx]:\n",
    "                nearest_neighbors[curr_idx] = dist\n",
    "\n",
    "            # Check the other vector too\n",
    "            if nearest_neighbors[comp_idx] < 0 or dist < nearest_neighbors[comp_idx]:\n",
    "                nearest_neighbors[comp_idx] = dist\n",
    "    \n",
    "    # Compute the mean of nearest_neighbor distances and return\n",
    "    mean = nearest_neighbors.sum() / m # This should be a scalar at this point\n",
    "    return mean"
   ]
  },
  {
   "cell_type": "markdown",
   "id": "f9155f8e",
   "metadata": {},
   "source": [
    "Below is a sample function call for $n=50$ and $m=100$"
   ]
  },
  {
   "cell_type": "code",
   "execution_count": 34,
   "id": "4fa0feff",
   "metadata": {},
   "outputs": [
    {
     "data": {
      "text/plain": [
       "np.float64(0.022028968334198)"
      ]
     },
     "execution_count": 34,
     "metadata": {},
     "output_type": "execute_result"
    }
   ],
   "source": [
    "# Sample function call\n",
    "mean_nearest_neighbors(50, 100)"
   ]
  },
  {
   "cell_type": "markdown",
   "id": "dc240a73",
   "metadata": {},
   "source": [
    "Now we can use this function to create plots for different fixed $m$ and $n\\in\\{1, 2, 5, 10, 20, 50, 100\\}$"
   ]
  }
 ],
 "metadata": {
  "kernelspec": {
   "display_name": ".venv",
   "language": "python",
   "name": "python3"
  },
  "language_info": {
   "codemirror_mode": {
    "name": "ipython",
    "version": 3
   },
   "file_extension": ".py",
   "mimetype": "text/x-python",
   "name": "python",
   "nbconvert_exporter": "python",
   "pygments_lexer": "ipython3",
   "version": "3.12.3"
  }
 },
 "nbformat": 4,
 "nbformat_minor": 5
}
